{
 "cells": [
  {
   "cell_type": "code",
   "execution_count": 1,
   "id": "2e02598b",
   "metadata": {},
   "outputs": [
    {
     "name": "stdout",
     "output_type": "stream",
     "text": [
      "4 6\n",
      "19 15 10 17\n",
      "15\n"
     ]
    }
   ],
   "source": [
    "# 떡의 개수 N과 요청한 떡의 길이 M을 입력받기\n",
    "n, m = list(map(int, input().split()))\n",
    "\n",
    "# 각 떡의 개별 높이 정보\n",
    "array = list(map(int, input().split()))\n",
    "\n",
    "# 시작점과 끝점\n",
    "start = 0\n",
    "end = max(array)\n",
    "\n",
    "# 이진 탐색\n",
    "result = 0\n",
    "while(start <= end):\n",
    "    total = 0\n",
    "    mid = (start + end) // 2\n",
    "    \n",
    "    for x in array:\n",
    "        # 잘랐을 때의 떡의 양 계산\n",
    "        if x > mid:\n",
    "            total += x - mid\n",
    "            \n",
    "    # 떡의 양이 부족한 경우 더 많이 자르기 (왼쪽 부분 탐색)\n",
    "    if total < m:\n",
    "        end = mid - 1\n",
    "        \n",
    "    # 떡의 양이 충분한 경우 덜 자르기 (오른쪽 부분 탐색)\n",
    "    else:\n",
    "        result = mid # 최대한 덜 잘랐을 때가 정답이므로, 여기서 result 기록\n",
    "        start = mid + 1\n",
    "        \n",
    "print(result)"
   ]
  },
  {
   "cell_type": "code",
   "execution_count": null,
   "id": "2e95c2be",
   "metadata": {},
   "outputs": [],
   "source": []
  }
 ],
 "metadata": {
  "kernelspec": {
   "display_name": "Python 3",
   "language": "python",
   "name": "python3"
  },
  "language_info": {
   "codemirror_mode": {
    "name": "ipython",
    "version": 3
   },
   "file_extension": ".py",
   "mimetype": "text/x-python",
   "name": "python",
   "nbconvert_exporter": "python",
   "pygments_lexer": "ipython3",
   "version": "3.8.8"
  }
 },
 "nbformat": 4,
 "nbformat_minor": 5
}
