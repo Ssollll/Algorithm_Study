{
 "cells": [
  {
   "cell_type": "code",
   "execution_count": 2,
   "id": "67568cb3",
   "metadata": {},
   "outputs": [],
   "source": [
    "def dfs(x, y):\n",
    "    stack = []\n",
    "    stack.append((x, y))\n",
    "    \n",
    "    while stack:\n",
    "        x, y = stack.pop()\n",
    "        \n",
    "        for i in range(4):\n",
    "            nx = x + dx[i]\n",
    "            ny = y + dy[i]\n",
    "            \n",
    "            if nx < 0 or nx >= n or ny < 0 or ny >= m:\n",
    "                continue\n",
    "                \n",
    "            if graph[nx][ny] == 0:\n",
    "                continue\n",
    "                \n",
    "            if graph[nx][ny] == 1:\n",
    "                graph[nx][ny] = 0\n",
    "                stack.append((nx, ny))\n",
    "                \n",
    "    return graph[n - 1][m - 1]"
   ]
  },
  {
   "cell_type": "code",
   "execution_count": 4,
   "id": "68b21a41",
   "metadata": {},
   "outputs": [
    {
     "name": "stdout",
     "output_type": "stream",
     "text": [
      "2\n",
      "10 8 17\n",
      "0 0\n",
      "1 0\n",
      "1 1\n",
      "4 2\n",
      "4 3\n",
      "4 5\n",
      "2 4\n",
      "3 4\n",
      "7 4\n",
      "8 4\n",
      "9 4\n",
      "7 5\n",
      "8 5\n",
      "9 5\n",
      "7 6\n",
      "8 6\n",
      "9 6\n",
      "5\n",
      "10 10 1\n",
      "5 5\n",
      "1\n"
     ]
    }
   ],
   "source": [
    "t = int(input())\n",
    "\n",
    "dx = [-1, 1, 0, 0]\n",
    "dy = [0, 0, -1, 1]\n",
    "\n",
    "for _ in range(t):\n",
    "    n, m, k = map(int, input().split())\n",
    "    result = 0\n",
    "    graph = [[0] * m for _ in range(n)]\n",
    "    for _ in range(k):\n",
    "        x, y = map(int, input().split())\n",
    "        graph[x][y] = 1\n",
    "\n",
    "    for i in range(n):\n",
    "        for j in range(m):\n",
    "            if graph[i][j] == 1:\n",
    "                dfs(i, j)\n",
    "                result += 1\n",
    "\n",
    "    print(result)"
   ]
  },
  {
   "cell_type": "code",
   "execution_count": null,
   "id": "cfeda879",
   "metadata": {},
   "outputs": [],
   "source": []
  }
 ],
 "metadata": {
  "kernelspec": {
   "display_name": "Python 3 (ipykernel)",
   "language": "python",
   "name": "python3"
  },
  "language_info": {
   "codemirror_mode": {
    "name": "ipython",
    "version": 3
   },
   "file_extension": ".py",
   "mimetype": "text/x-python",
   "name": "python",
   "nbconvert_exporter": "python",
   "pygments_lexer": "ipython3",
   "version": "3.9.13"
  }
 },
 "nbformat": 4,
 "nbformat_minor": 5
}
