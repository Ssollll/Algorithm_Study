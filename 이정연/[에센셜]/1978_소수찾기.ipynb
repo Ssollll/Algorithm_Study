{
 "cells": [
  {
   "cell_type": "code",
   "execution_count": 10,
   "id": "cd175287",
   "metadata": {},
   "outputs": [
    {
     "name": "stdout",
     "output_type": "stream",
     "text": [
      "4\n",
      "1 3 5 7\n"
     ]
    }
   ],
   "source": [
    "import math\n",
    "\n",
    "n = int(input())\n",
    "array = list(map(int, input().split()))\n",
    "result = 0"
   ]
  },
  {
   "cell_type": "code",
   "execution_count": 12,
   "id": "77c4276b",
   "metadata": {},
   "outputs": [
    {
     "name": "stdout",
     "output_type": "stream",
     "text": [
      "3\n"
     ]
    }
   ],
   "source": [
    "# 에라토스테네스의 체\n",
    "\n",
    "for num in array:\n",
    "    flag = 1\n",
    "    for i in range(2, num):\n",
    "        if num % i == 0:\n",
    "            flag = 0\n",
    "            break\n",
    "    if flag and num != 1:\n",
    "        result += 1\n",
    "        \n",
    "print(result)"
   ]
  },
  {
   "cell_type": "code",
   "execution_count": null,
   "id": "76abc136",
   "metadata": {},
   "outputs": [],
   "source": []
  }
 ],
 "metadata": {
  "kernelspec": {
   "display_name": "Python 3 (ipykernel)",
   "language": "python",
   "name": "python3"
  },
  "language_info": {
   "codemirror_mode": {
    "name": "ipython",
    "version": 3
   },
   "file_extension": ".py",
   "mimetype": "text/x-python",
   "name": "python",
   "nbconvert_exporter": "python",
   "pygments_lexer": "ipython3",
   "version": "3.9.13"
  }
 },
 "nbformat": 4,
 "nbformat_minor": 5
}
