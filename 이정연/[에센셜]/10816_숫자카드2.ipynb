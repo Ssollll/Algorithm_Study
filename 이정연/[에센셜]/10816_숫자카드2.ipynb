{
 "cells": [
  {
   "cell_type": "code",
   "execution_count": 3,
   "id": "3d0efe50",
   "metadata": {},
   "outputs": [
    {
     "name": "stdout",
     "output_type": "stream",
     "text": [
      "10\n",
      "6 3 2 10 10 10 -10 -10 7 3\n",
      "8\n",
      "10 9 -5 2 3 4 5 -10\n"
     ]
    }
   ],
   "source": [
    "n = int(input())\n",
    "array = list(map(int, input().split()))\n",
    "m = int(input())\n",
    "cards = list(map(int, input().split()))"
   ]
  },
  {
   "cell_type": "markdown",
   "id": "531c9456",
   "metadata": {},
   "source": [
    "### 순차 탐색"
   ]
  },
  {
   "cell_type": "code",
   "execution_count": 5,
   "id": "11fcb808",
   "metadata": {},
   "outputs": [
    {
     "name": "stdout",
     "output_type": "stream",
     "text": [
      "3 0 0 1 2 0 0 2 "
     ]
    }
   ],
   "source": [
    "for i in cards:\n",
    "    print(array.count(i), end = ' ')"
   ]
  },
  {
   "cell_type": "markdown",
   "id": "23eb022d",
   "metadata": {},
   "source": [
    "### bisect"
   ]
  },
  {
   "cell_type": "markdown",
   "id": "7598bb17",
   "metadata": {},
   "source": [
    "- bisect_left(a, x) : 정렬 순서를 유지하면서 리스트 a에 데이터 x를 삽입할 가장 왼쪽 인덱스\n",
    "- bisect_right(a, x) : 정렬 순서를 유지하면서 리스트 a에 데이터 x를 삽입할 가장 오른쪽 인덱스"
   ]
  },
  {
   "cell_type": "code",
   "execution_count": 7,
   "id": "9c7e361a",
   "metadata": {},
   "outputs": [
    {
     "name": "stdout",
     "output_type": "stream",
     "text": [
      "10\n",
      "6 3 2 10 10 10 -10 -10 7 3\n",
      "8\n",
      "10 9 -5 2 3 4 5 -10\n"
     ]
    }
   ],
   "source": [
    "from bisect import bisect_left, bisect_right\n",
    "\n",
    "def count_by_range(array, left, right):\n",
    "    right = bisect_right(array, right)\n",
    "    left = bisect_left(array, left)\n",
    "    return right - left\n",
    "\n",
    "n = int(input())\n",
    "array = list(map(int, input().split()))\n",
    "array.sort() # 정렬된 상태에서 가능\n",
    "\n",
    "m = int(input())\n",
    "cards = list(map(int, input().split()))"
   ]
  },
  {
   "cell_type": "code",
   "execution_count": 11,
   "id": "beb6fc5a",
   "metadata": {},
   "outputs": [
    {
     "name": "stdout",
     "output_type": "stream",
     "text": [
      "3 0 0 1 2 0 0 2 "
     ]
    }
   ],
   "source": [
    "for i in cards:\n",
    "    print(count_by_range(array, i, i), end = ' ') # 값이 i ~ i 인 데이터 개수 출력"
   ]
  },
  {
   "cell_type": "code",
   "execution_count": null,
   "id": "1c9890e8",
   "metadata": {},
   "outputs": [],
   "source": []
  }
 ],
 "metadata": {
  "kernelspec": {
   "display_name": "Python 3",
   "language": "python",
   "name": "python3"
  },
  "language_info": {
   "codemirror_mode": {
    "name": "ipython",
    "version": 3
   },
   "file_extension": ".py",
   "mimetype": "text/x-python",
   "name": "python",
   "nbconvert_exporter": "python",
   "pygments_lexer": "ipython3",
   "version": "3.10.9 (tags/v3.10.9:1dd9be6, Dec  6 2022, 20:01:21) [MSC v.1934 64 bit (AMD64)]"
  },
  "vscode": {
   "interpreter": {
    "hash": "d87bf28919bb78a3baa0235f980683f77cb8f0838a83910c2689188d29937bd3"
   }
  }
 },
 "nbformat": 4,
 "nbformat_minor": 5
}
