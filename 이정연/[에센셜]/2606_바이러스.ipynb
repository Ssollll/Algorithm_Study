{
 "cells": [
  {
   "cell_type": "code",
   "execution_count": null,
   "id": "c2114b4c",
   "metadata": {},
   "outputs": [],
   "source": [
    "def dfs(graph, start, visited):\n",
    "    global cnt\n",
    "    stack = []\n",
    "    stack.append(start)\n",
    "    visited[start] = cnt\n",
    "    \n",
    "    while stack:\n",
    "        v = stack.pop()\n",
    "        for i in graph[v]:\n",
    "            if visited[i] == 0:\n",
    "                cnt += 1\n",
    "                stack.append(i)\n",
    "                visited[i] = cnt"
   ]
  },
  {
   "cell_type": "code",
   "execution_count": 7,
   "id": "e75bca4b",
   "metadata": {},
   "outputs": [
    {
     "name": "stdout",
     "output_type": "stream",
     "text": [
      "7\n",
      "6\n",
      "1 2\n",
      "2 3\n",
      "1 5\n",
      "5 2\n",
      "5 6\n",
      "4 7\n"
     ]
    }
   ],
   "source": [
    "n = int(input())\n",
    "m = int(input())\n",
    "\n",
    "cnt = 1\n",
    "visited = [0] * (n + 1)\n",
    "\n",
    "graph = [[] for x in range(n + 1)]\n",
    "for _ in range(m):\n",
    "    a, b = map(int, input().split())\n",
    "    graph[a].append(b)\n",
    "    graph[b].append(a)"
   ]
  },
  {
   "cell_type": "code",
   "execution_count": 9,
   "id": "75e84eed",
   "metadata": {},
   "outputs": [],
   "source": [
    "dfs(graph, 1, visited)"
   ]
  },
  {
   "cell_type": "code",
   "execution_count": 10,
   "id": "a2383649",
   "metadata": {},
   "outputs": [
    {
     "name": "stdout",
     "output_type": "stream",
     "text": [
      "4\n"
     ]
    }
   ],
   "source": [
    "print(max(visited) - 1)"
   ]
  },
  {
   "cell_type": "code",
   "execution_count": null,
   "id": "d6bc68ee",
   "metadata": {},
   "outputs": [],
   "source": []
  }
 ],
 "metadata": {
  "kernelspec": {
   "display_name": "Python 3 (ipykernel)",
   "language": "python",
   "name": "python3"
  },
  "language_info": {
   "codemirror_mode": {
    "name": "ipython",
    "version": 3
   },
   "file_extension": ".py",
   "mimetype": "text/x-python",
   "name": "python",
   "nbconvert_exporter": "python",
   "pygments_lexer": "ipython3",
   "version": "3.9.13"
  }
 },
 "nbformat": 4,
 "nbformat_minor": 5
}
