{
 "cells": [
  {
   "cell_type": "code",
   "execution_count": null,
   "id": "86076049",
   "metadata": {},
   "outputs": [],
   "source": [
    "import sys\n",
    "input = sys.stdin.readline\n",
    "\n",
    "n = int(input())\n",
    "stack=[]\n",
    "\n",
    "for i in range(n):\n",
    "    order = input().split()\n",
    "    \n",
    "    if order[0] == 'push':\n",
    "        stack.append(order[1])\n",
    "        \n",
    "    if order[0] == 'pop':\n",
    "        if len(stack) == 0:\n",
    "            print(-1)\n",
    "        else:\n",
    "            print(stack.pop())\n",
    "    \n",
    "    if order[0] == 'size':\n",
    "        print(len(stack))\n",
    "        \n",
    "    if order[0] == 'empty':\n",
    "        if len(stack) == 0:\n",
    "            print(1)\n",
    "        else:\n",
    "            print(0)\n",
    "        \n",
    "    if order[0] == 'top':\n",
    "        if len(stack) == 0:\n",
    "            print(-1)\n",
    "        else:\n",
    "            print(stack[-1])"
   ]
  }
 ],
 "metadata": {
  "kernelspec": {
   "display_name": "Python 3 (ipykernel)",
   "language": "python",
   "name": "python3"
  },
  "language_info": {
   "codemirror_mode": {
    "name": "ipython",
    "version": 3
   },
   "file_extension": ".py",
   "mimetype": "text/x-python",
   "name": "python",
   "nbconvert_exporter": "python",
   "pygments_lexer": "ipython3",
   "version": "3.9.13"
  }
 },
 "nbformat": 4,
 "nbformat_minor": 5
}
